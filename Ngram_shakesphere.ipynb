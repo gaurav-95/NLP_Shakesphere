import re, string
with open("Cymbeline.txt", "r", encoding='utf-16-le') as file:
    text = file.read()

text[0:1000]

#preprocessing
text = re.sub('<.*>','',text)
text = re.sub('\n','',text)
text = re.sub('\t',' ',text)
text = re.sub(r'[^a-zA-Z0-9\s]', ' ', text)
punctuationNoPeriod = "[" + re.sub("\.","",string.punctuation) + "]"
text = re.sub(punctuationNoPeriod, "", text)

token = text.split()
tokens = [token for token in text.split(" ") if token != ""]

#ngram
n=1
ngrams = zip(*[token[i:] for i in range(n)])
gram1=[" ".join(ngram) for ngram in ngrams]

n=2
ngrams = zip(*[token[i:] for i in range(n)])
gram2=[" ".join(ngram) for ngram in ngrams]
print(gram1, gram2)

wordfreq1=[gram1.count(p) for p in gram1]
wordfreq2=[gram2.count(p) for p in gram2]
#print(dict(zip(gram,wordfreq)))

tottext=len(text)

for i in wordfreq1:
    p_uni=(i/tottext)
    print('Unigram probabilities for  are:',p_uni)
for i in wordfreq2:
    p_bi=(i/tottext)
    print('Bigram probabilities are:',p_bi)
    
print('Bi divided by uni is:',p_bi/p_uni)
